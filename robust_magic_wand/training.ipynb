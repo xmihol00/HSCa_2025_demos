{
 "cells": [
  {
   "cell_type": "markdown",
   "metadata": {
    "id": "X5aIBxvH8pFR"
   },
   "source": [
    "### Setup - imports, constants, download of data from GitHub"
   ]
  },
  {
   "cell_type": "code",
   "execution_count": 13,
   "metadata": {
    "id": "KUlblyBA8pFT"
   },
   "outputs": [],
   "source": [
    "import os\n",
    "import glob\n",
    "import tensorflow as tf\n",
    "import tensorflow.keras.models as tfm\n",
    "import tensorflow.keras.layers as tfl\n",
    "import tensorflow.keras.callbacks as tfc\n",
    "import tensorflow.keras.utils as tfu\n",
    "import sklearn.model_selection as skms\n",
    "import sklearn.metrics as skm\n",
    "import numpy as np\n",
    "import matplotlib.pyplot as plt\n",
    "import random\n",
    "import re\n",
    "import time\n",
    "import functools\n",
    "import IPython.display as ipd\n",
    "import pandas as pd\n",
    "\n",
    "os.system(\"pip install keras-flops > /dev/null\")\n",
    "import keras_flops as kf\n",
    "\n",
    "SEED = 42\n",
    "IMAGE_HEIGHT = 20\n",
    "IMAGE_WIDTH = 20\n",
    "IMAGE_WIDTH_HEIGHT_INDEX = IMAGE_WIDTH - 1\n",
    "SAMPLES_PER_MEASUREMENT = 119\n",
    "LINES_PER_MEASUREMENT = SAMPLES_PER_MEASUREMENT + 1\n",
    "NUMBER_OF_LABELS = 5\n",
    "LABELS = [\"Alohomora\", \"Arresto Momentum\", \"Avada Kedavra\", \"Locomotor\", \"Revelio\"]\n",
    "\n",
    "LARGE_DATA_SET = True  # set to True to train on larger data set, otherwise smaller will be used\n",
    "data_set_dir = \"data_large\" if LARGE_DATA_SET else \"data\"\n",
    "\n",
    "# create input/output directories and download data\n",
    "os.makedirs(\"figures\", exist_ok=True)\n",
    "os.makedirs(\"models\", exist_ok=True)\n",
    "os.makedirs(data_set_dir, exist_ok=True)\n",
    "\n",
    "if not os.path.isfile(f\"{data_set_dir}/spells.zip\"):\n",
    "    os.system(f\"wget -P {data_set_dir}/ https://github.com/xmihol00/robust_magic_wand/raw/main/{data_set_dir}/spells.zip\")\n",
    "    os.system(f\"unzip {data_set_dir}/spells.zip\")"
   ]
  },
  {
   "cell_type": "markdown",
   "metadata": {
    "id": "WYRCr6lt8pFU"
   },
   "source": [
    "### Functions for data processing, creation of data sets and model analysis"
   ]
  },
  {
   "cell_type": "code",
   "execution_count": 14,
   "metadata": {
    "id": "xcLDP86s8pFU"
   },
   "outputs": [],
   "source": [
    "def get_stroke_samples(data):\n",
    "    angle_samples = np.zeros((SAMPLES_PER_MEASUREMENT, 3))\n",
    "    stroke_samples = np.zeros((SAMPLES_PER_MEASUREMENT, 2))\n",
    "    rows_of_samples = [list(map(lambda x: float(x), line.split(','))) for line in data.split('\\n') if line] # convert each line to lists of floats\n",
    "\n",
    "    for i in range(0, len(rows_of_samples), SAMPLES_PER_MEASUREMENT): \n",
    "        measurment = np.array(rows_of_samples[i: i+SAMPLES_PER_MEASUREMENT])\n",
    "        acceleration_average = np.average(measurment[:, 0:3], axis=0)\n",
    "\n",
    "        # calcualte angle\n",
    "        previous_angle = np.zeros(3)\n",
    "        for j, gyro_sample in enumerate(measurment[:, 3:6]):\n",
    "            angle_samples[j] = previous_angle + gyro_sample / SAMPLES_PER_MEASUREMENT\n",
    "            previous_angle = angle_samples[j]     \n",
    "        angle_avg = np.average(angle_samples, axis=0) # average angle\n",
    "\n",
    "        # calculate stroke\n",
    "        acceleration_magnitude = np.sqrt(acceleration_average.dot(acceleration_average.T)) # dot product insted of squaring\n",
    "        acceleration_magnitude += (acceleration_magnitude < 0.0001) * 0.0001 # prevent division by 0\n",
    "        normalzied_acceleration = acceleration_average / acceleration_magnitude\n",
    "        normalized_angle = angle_samples - angle_avg\n",
    "        stroke_samples[:, 0] = -normalzied_acceleration[1] * normalized_angle[:, 1] - normalzied_acceleration[2] * normalized_angle[:, 2]\n",
    "        stroke_samples[:, 1] =  normalzied_acceleration[1] * normalized_angle[:, 2] - normalzied_acceleration[2] * normalized_angle[:, 1]\n",
    "        yield stroke_samples\n",
    "\n",
    "def laod_dataset(directory, one_hot=True, seed=SEED):\n",
    "    data = \"\"\n",
    "    labels = []\n",
    "    for i, file_name in enumerate(sorted(glob.glob(f\"{directory}/*.csv\"))): # sort the labels alphabetically\n",
    "        file = open(file_name, \"r\")\n",
    "        file.readline() # skip header\n",
    "        read_lines = file.read()\n",
    "        labels += [i] * (read_lines.count(\"\\n\") // LINES_PER_MEASUREMENT)\n",
    "        data += read_lines\n",
    "        file.close()\n",
    "\n",
    "    arrays = np.zeros((len(labels), 2 * SAMPLES_PER_MEASUREMENT), dtype=np.float32)\n",
    "    colors = np.linspace(255 - 2 * SAMPLES_PER_MEASUREMENT + 2, 255, SAMPLES_PER_MEASUREMENT) / 255\n",
    "    images = np.zeros((len(labels), IMAGE_HEIGHT, IMAGE_WIDTH, 1), dtype=np.float32)\n",
    "\n",
    "    for i, stroke_samples in enumerate(get_stroke_samples(data)): \n",
    "        stroke_samples -= np.min(stroke_samples, axis=0) # make samples in range from 0 to x\n",
    "        stroke_samples /= np.max(stroke_samples, axis=0) # normalize values from 0 to 1\n",
    "        arrays[i] = stroke_samples.reshape(-1)\n",
    "        \n",
    "        # rasterize stroke\n",
    "        pixels = np.round(stroke_samples * IMAGE_WIDTH_HEIGHT_INDEX, 0).astype(np.uint8) # normalize samples to the whole image\n",
    "        image = np.zeros((IMAGE_WIDTH, IMAGE_HEIGHT))\n",
    "        image[pixels[:, 1], pixels[:, 0]] = colors\n",
    "        images[i] = image.reshape(IMAGE_WIDTH, IMAGE_HEIGHT, 1).astype(np.float32)\n",
    "\n",
    "\n",
    "    both_variants = [skms.train_test_split(arrays, labels, test_size=0.2, random_state=seed),\n",
    "                     skms.train_test_split(images, labels, test_size=0.2, random_state=seed)]\n",
    "\n",
    "    for i in range(len(both_variants)):\n",
    "        X_train, X_test, y_train, y_test = both_variants[i]\n",
    "        y_test = np.array(y_test)\n",
    "        if one_hot:\n",
    "            # one-hot encoding of labels\n",
    "            y_train = tfu.to_categorical(y_train, num_classes=5)\n",
    "        both_variants[i] = (X_train, X_test, y_train, y_test)\n",
    "       \n",
    "    return both_variants\n",
    "\n",
    "def representative_dataset(data_set):\n",
    "    for sample in data_set:\n",
    "        yield [np.expand_dims(sample, 0)]\n",
    "\n",
    "def collect_model_summary(summary_line, model_dict):\n",
    "    match = re.match(r\"(.*?): ([\\d,]+)\", summary_line)\n",
    "    if match:\n",
    "        match = match.groups()\n",
    "        model_dict[match[0].replace(\"params\", \"parameters\")] = int(match[1].replace(',', ''))"
   ]
  },
  {
   "cell_type": "markdown",
   "metadata": {
    "id": "vX5Ygk838pFV"
   },
   "source": [
    "### Model definition"
   ]
  },
  {
   "cell_type": "code",
   "execution_count": 15,
   "metadata": {
    "id": "KsF8NS7e8pFV"
   },
   "outputs": [],
   "source": [
    "hidden_activation = tf.keras.layers.LeakyReLU(0.1)\n",
    "model_name = \"CNN\"\n",
    "\n",
    "if model_name == \"Dense\":  # change to False to use the dense model\n",
    "    droput_1 = 0.4\n",
    "    droput_2 = 0.3\n",
    "    droput_3 = 0.25\n",
    "\n",
    "    model = tfm.Sequential([\n",
    "        tfl.Dense(units=100, activation=hidden_activation),\n",
    "        tfl.Dropout(droput_2),\n",
    "        tfl.Dense(units=500, activation=hidden_activation),\n",
    "        tfl.Dropout(droput_3),\n",
    "        tfl.Dense(units=5, activation=\"softmax\")\n",
    "    ])\n",
    "\n",
    "elif model_name == \"CNN\":\n",
    "    model = tfm.Sequential([\n",
    "        tfl.Conv2D(filters=8, kernel_size=(3, 3), activation=hidden_activation, padding=\"same\"),\n",
    "        tfl.MaxPool2D(),\n",
    "        tfl.Conv2D(filters=16, kernel_size=(3, 3), activation=hidden_activation, padding=\"same\"),\n",
    "        tfl.MaxPool2D(),\n",
    "        tfl.Conv2D(filters=32, kernel_size=(3, 3), activation=hidden_activation, padding=\"same\"),\n",
    "        tfl.MaxPool2D(),\n",
    "        tfl.Flatten(),\n",
    "        tfl.Dense(units=32, activation=hidden_activation),\n",
    "        tfl.Dense(units=5, activation=\"softmax\"),\n",
    "    ])"
   ]
  },
  {
   "cell_type": "markdown",
   "metadata": {
    "id": "pfJam3ky8pFV"
   },
   "source": [
    "### Load the data set"
   ]
  },
  {
   "cell_type": "code",
   "execution_count": 16,
   "metadata": {
    "id": "fiuvWb3K8pFV"
   },
   "outputs": [],
   "source": [
    "X_train, X_test, y_train, y_test = laod_dataset(data_set_dir)[model_name == \"CNN\"]"
   ]
  },
  {
   "cell_type": "markdown",
   "metadata": {
    "id": "Z9qmK-RI8pFW"
   },
   "source": [
    "### Train with validation data set to get the relevant number of epochs needed for training"
   ]
  },
  {
   "cell_type": "code",
   "execution_count": 17,
   "metadata": {
    "colab": {
     "base_uri": "https://localhost:8080/"
    },
    "id": "7owPdHuK8pFW",
    "outputId": "27cca2f2-21e8-4ccd-f3da-f1420ed2f2ab"
   },
   "outputs": [
    {
     "name": "stdout",
     "output_type": "stream",
     "text": [
      "Epoch 1/100\n",
      "20/20 - 1s - loss: 1.5325 - accuracy: 0.5016 - val_loss: 1.4130 - val_accuracy: 0.6438 - 708ms/epoch - 35ms/step\n",
      "Epoch 2/100\n",
      "20/20 - 0s - loss: 1.2298 - accuracy: 0.6500 - val_loss: 0.9467 - val_accuracy: 0.7688 - 62ms/epoch - 3ms/step\n",
      "Epoch 3/100\n",
      "20/20 - 0s - loss: 0.6667 - accuracy: 0.8406 - val_loss: 0.4209 - val_accuracy: 0.8750 - 63ms/epoch - 3ms/step\n",
      "Epoch 4/100\n",
      "20/20 - 0s - loss: 0.3367 - accuracy: 0.8859 - val_loss: 0.2393 - val_accuracy: 0.9312 - 57ms/epoch - 3ms/step\n",
      "Epoch 5/100\n",
      "20/20 - 0s - loss: 0.2015 - accuracy: 0.9453 - val_loss: 0.1942 - val_accuracy: 0.9375 - 61ms/epoch - 3ms/step\n",
      "Epoch 6/100\n",
      "20/20 - 0s - loss: 0.1602 - accuracy: 0.9438 - val_loss: 0.2016 - val_accuracy: 0.9375 - 61ms/epoch - 3ms/step\n",
      "Epoch 7/100\n",
      "20/20 - 0s - loss: 0.1617 - accuracy: 0.9422 - val_loss: 0.1979 - val_accuracy: 0.9500 - 57ms/epoch - 3ms/step\n",
      "Epoch 8/100\n",
      "20/20 - 0s - loss: 0.1153 - accuracy: 0.9672 - val_loss: 0.1732 - val_accuracy: 0.9500 - 62ms/epoch - 3ms/step\n",
      "Epoch 9/100\n",
      "20/20 - 0s - loss: 0.0999 - accuracy: 0.9641 - val_loss: 0.1601 - val_accuracy: 0.9563 - 62ms/epoch - 3ms/step\n",
      "Epoch 10/100\n",
      "20/20 - 0s - loss: 0.0893 - accuracy: 0.9766 - val_loss: 0.1321 - val_accuracy: 0.9563 - 60ms/epoch - 3ms/step\n",
      "Epoch 11/100\n",
      "20/20 - 0s - loss: 0.0682 - accuracy: 0.9797 - val_loss: 0.1379 - val_accuracy: 0.9563 - 60ms/epoch - 3ms/step\n",
      "Epoch 12/100\n",
      "20/20 - 0s - loss: 0.0724 - accuracy: 0.9766 - val_loss: 0.1432 - val_accuracy: 0.9563 - 61ms/epoch - 3ms/step\n"
     ]
    }
   ],
   "source": [
    "# make results reproduceable\n",
    "np.random.seed(SEED)\n",
    "random.seed(SEED)\n",
    "tf.random.set_seed(SEED)\n",
    "\n",
    "results = {}\n",
    "\n",
    "# get weights for the given seed\n",
    "model.build(X_train.shape)\n",
    "weights = model.get_weights()\n",
    "\n",
    "# get the best number of epochs based on validation data set\n",
    "model.compile(optimizer=\"adam\", loss=\"categorical_crossentropy\", metrics=[\"accuracy\"])\n",
    "history = model.fit(X_train, y_train, epochs=100, validation_split=0.2, batch_size=32, verbose=2,\n",
    "                    callbacks=[tfc.EarlyStopping(monitor=\"val_accuracy\", patience=3, mode=\"max\", restore_best_weights=False)]).history\n",
    "epochs = len(history[\"loss\"]) - 3\n",
    "results[\"Epochs\"] = epochs"
   ]
  },
  {
   "cell_type": "markdown",
   "metadata": {
    "id": "uPWm_oaG8pFX"
   },
   "source": [
    "### Train on the whole train data set"
   ]
  },
  {
   "cell_type": "code",
   "execution_count": 18,
   "metadata": {
    "colab": {
     "base_uri": "https://localhost:8080/"
    },
    "id": "g3gNh1ye8pFX",
    "outputId": "3a3f4981-cfe9-4843-d865-bff9f4a36ac2"
   },
   "outputs": [
    {
     "name": "stdout",
     "output_type": "stream",
     "text": [
      "Epoch 1/9\n",
      "25/25 - 1s - loss: 1.5253 - accuracy: 0.5175 - 540ms/epoch - 22ms/step\n",
      "Epoch 2/9\n",
      "25/25 - 0s - loss: 1.0791 - accuracy: 0.7163 - 56ms/epoch - 2ms/step\n",
      "Epoch 3/9\n",
      "25/25 - 0s - loss: 0.4323 - accuracy: 0.8938 - 49ms/epoch - 2ms/step\n",
      "Epoch 4/9\n",
      "25/25 - 0s - loss: 0.2265 - accuracy: 0.9225 - 51ms/epoch - 2ms/step\n",
      "Epoch 5/9\n",
      "25/25 - 0s - loss: 0.1717 - accuracy: 0.9450 - 50ms/epoch - 2ms/step\n",
      "Epoch 6/9\n",
      "25/25 - 0s - loss: 0.1324 - accuracy: 0.9563 - 53ms/epoch - 2ms/step\n",
      "Epoch 7/9\n",
      "25/25 - 0s - loss: 0.1050 - accuracy: 0.9688 - 49ms/epoch - 2ms/step\n",
      "Epoch 8/9\n",
      "25/25 - 0s - loss: 0.0914 - accuracy: 0.9737 - 50ms/epoch - 2ms/step\n",
      "Epoch 9/9\n",
      "25/25 - 0s - loss: 0.0833 - accuracy: 0.9775 - 51ms/epoch - 2ms/step\n"
     ]
    }
   ],
   "source": [
    "# reset the initialized weights\n",
    "model.set_weights(weights)\n",
    "\n",
    "model.compile(optimizer=\"adam\", loss=\"categorical_crossentropy\", metrics=[\"accuracy\"])\n",
    "train_start = time.time()\n",
    "model.fit(X_train, y_train, epochs=epochs, validation_split=0.0, batch_size=32, verbose=2)\n",
    "results[\"Training time GPU\"] = f\"{(time.time() - train_start):.2f} s\""
   ]
  },
  {
   "cell_type": "markdown",
   "metadata": {
    "id": "CbnvijS08pFX"
   },
   "source": [
    "### Get the summary of the model"
   ]
  },
  {
   "cell_type": "code",
   "execution_count": 19,
   "metadata": {
    "id": "PvGM9DbT8pFY"
   },
   "outputs": [
    {
     "name": "stdout",
     "output_type": "stream",
     "text": [
      "-max_depth                  10000\n",
      "-min_bytes                  0\n",
      "-min_peak_bytes             0\n",
      "-min_residual_bytes         0\n",
      "-min_output_bytes           0\n",
      "-min_micros                 0\n",
      "-min_accelerator_micros     0\n",
      "-min_cpu_micros             0\n",
      "-min_params                 0\n",
      "-min_float_ops              1\n",
      "-min_occurrence             0\n",
      "-step                       -1\n",
      "-order_by                   float_ops\n",
      "-account_type_regexes       .*\n",
      "-start_name_regexes         .*\n",
      "-trim_name_regexes          \n",
      "-show_name_regexes          .*\n",
      "-hide_name_regexes          \n",
      "-account_displayed_op_only  true\n",
      "-select                     float_ops\n",
      "-output                     stdout:\n",
      "\n",
      "==================Model Analysis Report======================\n",
      "\n",
      "Doc:\n",
      "scope: The nodes in the model graph are organized by their names, which is hierarchical like filesystem.\n",
      "flops: Number of float operations. Note: Please read the implementation for the math behind it.\n",
      "\n",
      "Profile:\n",
      "node name | # float_ops\n",
      "_TFProfRoot (--/537.89k flops)\n",
      "  sequential_1/conv2d_1/Conv2D (230.40k/230.40k flops)\n",
      "  sequential_1/conv2d_2/Conv2D (230.40k/230.40k flops)\n",
      "  sequential_1/conv2d/Conv2D (57.60k/57.60k flops)\n",
      "  sequential_1/dense_3/MatMul (8.19k/8.19k flops)\n",
      "  sequential_1/conv2d/BiasAdd (3.20k/3.20k flops)\n",
      "  sequential_1/max_pooling2d/MaxPool (3.20k/3.20k flops)\n",
      "  sequential_1/conv2d_1/BiasAdd (1.60k/1.60k flops)\n",
      "  sequential_1/max_pooling2d_1/MaxPool (1.60k/1.60k flops)\n",
      "  sequential_1/conv2d_2/BiasAdd (800/800 flops)\n",
      "  sequential_1/max_pooling2d_2/MaxPool (512/512 flops)\n",
      "  sequential_1/dense_4/MatMul (320/320 flops)\n",
      "  sequential_1/dense_3/BiasAdd (32/32 flops)\n",
      "  sequential_1/dense_4/Softmax (25/25 flops)\n",
      "  sequential_1/dense_4/BiasAdd (5/5 flops)\n",
      "\n",
      "======================End of Report==========================\n"
     ]
    }
   ],
   "source": [
    "model.summary(print_fn=lambda x, y=results: collect_model_summary(x, y))\n",
    "results[\"FLOPS\"] = kf.get_flops(model, batch_size=1)\n",
    "\n",
    "ipd.clear_output()"
   ]
  },
  {
   "cell_type": "markdown",
   "metadata": {
    "id": "iGqPkAM68pFY"
   },
   "source": [
    "### Convert the model to TFLite"
   ]
  },
  {
   "cell_type": "code",
   "execution_count": 20,
   "metadata": {
    "id": "aGssJgdr8pFY"
   },
   "outputs": [],
   "source": [
    "# convert the model without optimiziation (evaluation is not necessary, the results after conversion are the same)\n",
    "converter = tf.lite.TFLiteConverter.from_keras_model(model)\n",
    "tflite_model = converter.convert()\n",
    "results_file = open(f\"models/model.tflite\", \"wb\")\n",
    "results_file.write(tflite_model)\n",
    "results_file.close()\n",
    "results[\"Size\"] = os.path.getsize(f\"models/model.tflite\")\n",
    "del tflite_model\n",
    "\n",
    "# convert the model with optimization \n",
    "converter = tf.lite.TFLiteConverter.from_keras_model(model)\n",
    "converter.optimizations = [tf.lite.Optimize.DEFAULT]\n",
    "converter.target_spec.supported_ops = [tf.lite.OpsSet.TFLITE_BUILTINS_INT8]\n",
    "converter.inference_input_type = tf.int8\n",
    "converter.inference_output_type = tf.int8\n",
    "converter.representative_dataset = lambda x=X_train: representative_dataset(x)\n",
    "tflite_model_opt = converter.convert()\n",
    "results_file = open(f\"models/model.tflite\", \"wb\")\n",
    "results_file.write(tflite_model_opt)\n",
    "results_file.close()\n",
    "results[\"Optimized size\"] = os.path.getsize(f\"models/model.tflite\")\n",
    "os.system(f'echo \"const unsigned char model[] = {{\" > models/model.h && cat models/model.tflite | xxd -i >> models/model.h && echo \"}};\" >> models/model.h && rm -f models/model.tflite')\n",
    "\n",
    "ipd.clear_output()"
   ]
  },
  {
   "cell_type": "markdown",
   "metadata": {
    "id": "YEJSv6LQ8pFY"
   },
   "source": [
    "### Predict the test data set using the full and optimized models"
   ]
  },
  {
   "cell_type": "code",
   "execution_count": 21,
   "metadata": {
    "id": "TFJLUPri8pFY"
   },
   "outputs": [],
   "source": [
    "# predict and evaluate the prediction of the full model\n",
    "predictions_full = model.predict(X_test, verbose=0)\n",
    "predictions_full = np.argmax(predictions_full, axis=1)\n",
    "results[\"Full model accuracy\"] = f\"{((predictions_full == y_test).sum() / y_test.shape[0] * 100):.2f} %\"\n",
    "\n",
    "# predict using the optimized model and evaluate the prediction\n",
    "interpreter = tf.lite.Interpreter(model_content=tflite_model_opt)\n",
    "interpreter.allocate_tensors()\n",
    "input_index = interpreter.get_input_details()[0][\"index\"]\n",
    "output_index = interpreter.get_output_details()[0][\"index\"]\n",
    "input_scale, input_zero_point = interpreter.get_output_details()[0][\"quantization\"]\n",
    "predictions_opt = np.zeros((y_test.shape[0]))\n",
    "for i, sample in enumerate(X_test):\n",
    "    interpreter.set_tensor(input_index, np.expand_dims(sample / input_scale + input_zero_point, 0).astype(np.int8))\n",
    "    interpreter.invoke()\n",
    "    predictions_opt[i] = np.argmax(interpreter.get_tensor(output_index)[0]) # rescaling is not needed\n",
    "results[\"Optimized model accuracy\"] = f\"{((predictions_opt == y_test).sum() / y_test.shape[0] * 100):.2f} %\""
   ]
  },
  {
   "cell_type": "markdown",
   "metadata": {
    "id": "lviUzX2w8pFZ"
   },
   "source": [
    "### Display the model statisctics"
   ]
  },
  {
   "cell_type": "code",
   "execution_count": 22,
   "metadata": {
    "colab": {
     "base_uri": "https://localhost:8080/"
    },
    "id": "DSxH9vrN8pFZ",
    "outputId": "15cdcb97-54b3-4bc3-8f71-f8dd810fb24f"
   },
   "outputs": [
    {
     "data": {
      "text/plain": [
       "{'Epochs': 9,\n",
       " 'Training time GPU': '1.03 s',\n",
       " 'Total parameters': 10181,\n",
       " 'Trainable parameters': 10181,\n",
       " 'Non-trainable parameters': 0,\n",
       " 'FLOPS': 537886,\n",
       " 'Size': 45484,\n",
       " 'Optimized size': 17368,\n",
       " 'Full model accuracy': '95.00 %',\n",
       " 'Optimized model accuracy': '94.50 %'}"
      ]
     },
     "execution_count": 22,
     "metadata": {},
     "output_type": "execute_result"
    }
   ],
   "source": [
    "results"
   ]
  },
  {
   "cell_type": "markdown",
   "metadata": {
    "id": "-C9IeTN38pFZ"
   },
   "source": [
    "### Plot the confusion matrices of the full and optimized models"
   ]
  },
  {
   "cell_type": "code",
   "execution_count": 23,
   "metadata": {
    "colab": {
     "base_uri": "https://localhost:8080/",
     "height": 520
    },
    "id": "4bJICLyb8pFZ",
    "outputId": "0a0c0c49-1eac-4e28-986a-b0fe4401e883"
   },
   "outputs": [
    {
     "data": {
      "image/png": "[encoded data removed]",
      "text/plain": [
       "<Figure size 2200x900 with 4 Axes>"
      ]
     },
     "metadata": {},
     "output_type": "display_data"
    }
   ],
   "source": [
    "figure, axis = plt.subplots(1, 2) # plot of the confusion matrix for selected models\n",
    "figure.set_size_inches(22, 9)\n",
    "axis_idx = 0\n",
    "plt.subplots_adjust(left=0.085, bottom=0.04, right=1.02, top=0.97, hspace=0.15, wspace=0.15)\n",
    "\n",
    "# plot the full model confusion metrix\n",
    "confusion_matrix = tf.math.confusion_matrix(y_test, predictions_full).numpy()\n",
    "confusion_matrix = skm.ConfusionMatrixDisplay(confusion_matrix=confusion_matrix, display_labels=LABELS)\n",
    "axis[0].set_title(f\"{model_name} unoptimized\")\n",
    "confusion_matrix.plot(cmap=\"Blues\", ax=axis[0])\n",
    "\n",
    "# plot the confusuion matrix of the optimized model\n",
    "confusion_matrix = tf.math.confusion_matrix(y_test, predictions_opt).numpy()\n",
    "confusion_matrix = skm.ConfusionMatrixDisplay(confusion_matrix=confusion_matrix, display_labels=LABELS)\n",
    "axis[1].set_title(f\"{model_name} optimized\")\n",
    "confusion_matrix.plot(cmap=\"Blues\", ax=axis[1])\n",
    "\n",
    "plt.savefig(f\"figures/{model_name}\", dpi=300)\n",
    "plt.show()"
   ]
  },
  {
   "cell_type": "markdown",
   "metadata": {
    "id": "ySAFr5Hv8pFZ"
   },
   "source": [
    "### Move the model to Arduino code"
   ]
  },
  {
   "cell_type": "code",
   "execution_count": 24,
   "metadata": {
    "id": "umXojLpF8pFa"
   },
   "outputs": [],
   "source": [
    "# do that only on a local machine, if the file exist\n",
    "if model_name == \"CNN\":\n",
    "    os.system(\"cat models/model.h > arduino_2D_inference/model.h\")\n",
    "elif model_name == \"Dense\":\n",
    "    os.system(\"cat models/model.h > arduino_1D_inference/model.h\")    "
   ]
  }
 ],
 "metadata": {
  "colab": {
   "provenance": []
  },
  "kernelspec": {
   "display_name": "Python 3",
   "language": "python",
   "name": "python3"
  },
  "language_info": {
   "codemirror_mode": {
    "name": "ipython",
    "version": 3
   },
   "file_extension": ".py",
   "mimetype": "text/x-python",
   "name": "python",
   "nbconvert_exporter": "python",
   "pygments_lexer": "ipython3",
   "version": "3.10.12"
  }
 },
 "nbformat": 4,
 "nbformat_minor": 4
}
